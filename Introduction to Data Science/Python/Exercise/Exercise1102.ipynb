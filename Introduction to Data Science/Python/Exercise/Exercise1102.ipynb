{
  "nbformat": 4,
  "nbformat_minor": 0,
  "metadata": {
    "colab": {
      "name": "Exercise1102.ipynb",
      "version": "0.3.2",
      "provenance": [],
      "collapsed_sections": []
    },
    "kernelspec": {
      "name": "python3",
      "display_name": "Python 3"
    }
  },
  "cells": [
    {
      "metadata": {
        "id": "GBqpX8-eFBCA",
        "colab_type": "text"
      },
      "cell_type": "markdown",
      "source": [
        "# 如何在 Google Colab 寫檔、讀檔與安裝模組"
      ]
    },
    {
      "metadata": {
        "id": "3SwZ8QcIFIQ4",
        "colab_type": "code",
        "colab": {}
      },
      "cell_type": "code",
      "source": [
        "position = [\"PG\", \"SG\", \"SF\", \"PF\", \"C\"]\n",
        "player = [\"Ron Harper\", \"Michael Jordan\", \"Scottie Pippen\", \"Dennis Rodman\", \"Luc Longley\"]\n",
        "team = \"Chicago Bulls\"\n",
        "season = \"1995-96\""
      ],
      "execution_count": 0,
      "outputs": []
    },
    {
      "metadata": {
        "id": "fHOiSSGWFLNa",
        "colab_type": "code",
        "colab": {
          "base_uri": "https://localhost:8080/",
          "height": 195
        },
        "outputId": "3f46f339-53fe-44d4-e4b8-30fecf463e2e"
      },
      "cell_type": "code",
      "source": [
        "import pandas as pd\n",
        "\n",
        "chicago_bulls = pd.DataFrame()\n",
        "chicago_bulls[\"position\"] = position\n",
        "chicago_bulls[\"player\"] = player\n",
        "chicago_bulls[\"team\"] = team\n",
        "chicago_bulls[\"season\"] = season\n",
        "chicago_bulls"
      ],
      "execution_count": 5,
      "outputs": [
        {
          "output_type": "execute_result",
          "data": {
            "text/html": [
              "<div>\n",
              "<style scoped>\n",
              "    .dataframe tbody tr th:only-of-type {\n",
              "        vertical-align: middle;\n",
              "    }\n",
              "\n",
              "    .dataframe tbody tr th {\n",
              "        vertical-align: top;\n",
              "    }\n",
              "\n",
              "    .dataframe thead th {\n",
              "        text-align: right;\n",
              "    }\n",
              "</style>\n",
              "<table border=\"1\" class=\"dataframe\">\n",
              "  <thead>\n",
              "    <tr style=\"text-align: right;\">\n",
              "      <th></th>\n",
              "      <th>position</th>\n",
              "      <th>player</th>\n",
              "      <th>team</th>\n",
              "      <th>season</th>\n",
              "    </tr>\n",
              "  </thead>\n",
              "  <tbody>\n",
              "    <tr>\n",
              "      <th>0</th>\n",
              "      <td>PG</td>\n",
              "      <td>Ron Harper</td>\n",
              "      <td>Chicago Bulls</td>\n",
              "      <td>1995-96</td>\n",
              "    </tr>\n",
              "    <tr>\n",
              "      <th>1</th>\n",
              "      <td>SG</td>\n",
              "      <td>Michael Jordan</td>\n",
              "      <td>Chicago Bulls</td>\n",
              "      <td>1995-96</td>\n",
              "    </tr>\n",
              "    <tr>\n",
              "      <th>2</th>\n",
              "      <td>SF</td>\n",
              "      <td>Scottie Pippen</td>\n",
              "      <td>Chicago Bulls</td>\n",
              "      <td>1995-96</td>\n",
              "    </tr>\n",
              "    <tr>\n",
              "      <th>3</th>\n",
              "      <td>PF</td>\n",
              "      <td>Dennis Rodman</td>\n",
              "      <td>Chicago Bulls</td>\n",
              "      <td>1995-96</td>\n",
              "    </tr>\n",
              "    <tr>\n",
              "      <th>4</th>\n",
              "      <td>C</td>\n",
              "      <td>Luc Longley</td>\n",
              "      <td>Chicago Bulls</td>\n",
              "      <td>1995-96</td>\n",
              "    </tr>\n",
              "  </tbody>\n",
              "</table>\n",
              "</div>"
            ],
            "text/plain": [
              "  position          player           team   season\n",
              "0       PG      Ron Harper  Chicago Bulls  1995-96\n",
              "1       SG  Michael Jordan  Chicago Bulls  1995-96\n",
              "2       SF  Scottie Pippen  Chicago Bulls  1995-96\n",
              "3       PF   Dennis Rodman  Chicago Bulls  1995-96\n",
              "4        C     Luc Longley  Chicago Bulls  1995-96"
            ]
          },
          "metadata": {
            "tags": []
          },
          "execution_count": 5
        }
      ]
    },
    {
      "metadata": {
        "id": "0GoxQXmTFk1Z",
        "colab_type": "code",
        "colab": {
          "base_uri": "https://localhost:8080/",
          "height": 195
        },
        "outputId": "cc226a78-5ce8-4c80-cf47-78b3d57e7f43"
      },
      "cell_type": "code",
      "source": [
        "chicago_bulls_dict = {\n",
        "    \"position\": position,\n",
        "    \"player\": player,\n",
        "    \"team\": team,\n",
        "    \"season\": season\n",
        "}\n",
        "chicago_bulls_df = pd.DataFrame(chicago_bulls_dict)\n",
        "chicago_bulls_df"
      ],
      "execution_count": 6,
      "outputs": [
        {
          "output_type": "execute_result",
          "data": {
            "text/html": [
              "<div>\n",
              "<style scoped>\n",
              "    .dataframe tbody tr th:only-of-type {\n",
              "        vertical-align: middle;\n",
              "    }\n",
              "\n",
              "    .dataframe tbody tr th {\n",
              "        vertical-align: top;\n",
              "    }\n",
              "\n",
              "    .dataframe thead th {\n",
              "        text-align: right;\n",
              "    }\n",
              "</style>\n",
              "<table border=\"1\" class=\"dataframe\">\n",
              "  <thead>\n",
              "    <tr style=\"text-align: right;\">\n",
              "      <th></th>\n",
              "      <th>player</th>\n",
              "      <th>position</th>\n",
              "      <th>season</th>\n",
              "      <th>team</th>\n",
              "    </tr>\n",
              "  </thead>\n",
              "  <tbody>\n",
              "    <tr>\n",
              "      <th>0</th>\n",
              "      <td>Ron Harper</td>\n",
              "      <td>PG</td>\n",
              "      <td>1995-96</td>\n",
              "      <td>Chicago Bulls</td>\n",
              "    </tr>\n",
              "    <tr>\n",
              "      <th>1</th>\n",
              "      <td>Michael Jordan</td>\n",
              "      <td>SG</td>\n",
              "      <td>1995-96</td>\n",
              "      <td>Chicago Bulls</td>\n",
              "    </tr>\n",
              "    <tr>\n",
              "      <th>2</th>\n",
              "      <td>Scottie Pippen</td>\n",
              "      <td>SF</td>\n",
              "      <td>1995-96</td>\n",
              "      <td>Chicago Bulls</td>\n",
              "    </tr>\n",
              "    <tr>\n",
              "      <th>3</th>\n",
              "      <td>Dennis Rodman</td>\n",
              "      <td>PF</td>\n",
              "      <td>1995-96</td>\n",
              "      <td>Chicago Bulls</td>\n",
              "    </tr>\n",
              "    <tr>\n",
              "      <th>4</th>\n",
              "      <td>Luc Longley</td>\n",
              "      <td>C</td>\n",
              "      <td>1995-96</td>\n",
              "      <td>Chicago Bulls</td>\n",
              "    </tr>\n",
              "  </tbody>\n",
              "</table>\n",
              "</div>"
            ],
            "text/plain": [
              "           player position   season           team\n",
              "0      Ron Harper       PG  1995-96  Chicago Bulls\n",
              "1  Michael Jordan       SG  1995-96  Chicago Bulls\n",
              "2  Scottie Pippen       SF  1995-96  Chicago Bulls\n",
              "3   Dennis Rodman       PF  1995-96  Chicago Bulls\n",
              "4     Luc Longley        C  1995-96  Chicago Bulls"
            ]
          },
          "metadata": {
            "tags": []
          },
          "execution_count": 6
        }
      ]
    },
    {
      "metadata": {
        "id": "UQLiL2xPFTLq",
        "colab_type": "code",
        "colab": {}
      },
      "cell_type": "code",
      "source": [
        "chicago_bulls.to_csv(\"chicago_bulls.csv\", index=False)"
      ],
      "execution_count": 0,
      "outputs": []
    },
    {
      "metadata": {
        "id": "JZWpF9BgGq47",
        "colab_type": "code",
        "colab": {}
      },
      "cell_type": "code",
      "source": [
        "from google.colab import files\n",
        "\n",
        "files.download(\"chicago_bulls.csv\")"
      ],
      "execution_count": 0,
      "outputs": []
    },
    {
      "metadata": {
        "id": "UCrYs_xBGtP6",
        "colab_type": "code",
        "colab": {
          "resources": {
            "http://localhost:8080/nbextensions/google.colab/files.js": {
              "data": "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",
              "ok": true,
              "headers": [
                [
                  "content-type",
                  "application/javascript"
                ]
              ],
              "status": 200,
              "status_text": ""
            }
          },
          "base_uri": "https://localhost:8080/",
          "height": 111
        },
        "outputId": "e4558bd5-8f03-4798-bbb1-6e7844f00442"
      },
      "cell_type": "code",
      "source": [
        "files.upload()"
      ],
      "execution_count": 14,
      "outputs": [
        {
          "output_type": "display_data",
          "data": {
            "text/html": [
              "\n",
              "     <input type=\"file\" id=\"files-ab49632a-b7c5-483e-b593-b50267331b33\" name=\"files[]\" multiple disabled />\n",
              "     <output id=\"result-ab49632a-b7c5-483e-b593-b50267331b33\">\n",
              "      Upload widget is only available when the cell has been executed in the\n",
              "      current browser session. Please rerun this cell to enable.\n",
              "      </output>\n",
              "      <script src=\"/nbextensions/google.colab/files.js\"></script> "
            ],
            "text/plain": [
              "<IPython.core.display.HTML object>"
            ]
          },
          "metadata": {
            "tags": []
          }
        },
        {
          "output_type": "stream",
          "text": [
            "Saving chicago_bulls.csv to chicago_bulls (1).csv\n"
          ],
          "name": "stdout"
        },
        {
          "output_type": "execute_result",
          "data": {
            "text/plain": [
              "{'chicago_bulls.csv': b'position,player,team,season\\nPG,Ron Harper,Chicago Bulls,1995-96\\nSG,Michael Jordan,Chicago Bulls,1995-96\\nSF,Scottie Pippen,Chicago Bulls,1995-96\\nPF,Dennis Rodman,Chicago Bulls,1995-96\\nC,Luc Longley,Chicago Bulls,1995-96\\n'}"
            ]
          },
          "metadata": {
            "tags": []
          },
          "execution_count": 14
        }
      ]
    },
    {
      "metadata": {
        "id": "wZ_9IwjNG-x-",
        "colab_type": "code",
        "colab": {
          "base_uri": "https://localhost:8080/",
          "height": 34
        },
        "outputId": "b7eb8f36-7791-4ba2-8908-384f8175e8d3"
      },
      "cell_type": "code",
      "source": [
        "ls"
      ],
      "execution_count": 15,
      "outputs": [
        {
          "output_type": "stream",
          "text": [
            "'chicago_bulls (1).csv'   chicago_bulls.csv   \u001b[0m\u001b[01;34msample_data\u001b[0m/\n"
          ],
          "name": "stdout"
        }
      ]
    },
    {
      "metadata": {
        "id": "lZg2YxN5Hjy-",
        "colab_type": "code",
        "colab": {
          "base_uri": "https://localhost:8080/",
          "height": 34
        },
        "outputId": "e480655e-b8fd-4933-aa57-8967cec33c89"
      },
      "cell_type": "code",
      "source": [
        "pwd"
      ],
      "execution_count": 16,
      "outputs": [
        {
          "output_type": "execute_result",
          "data": {
            "text/plain": [
              "'/content'"
            ]
          },
          "metadata": {
            "tags": []
          },
          "execution_count": 16
        }
      ]
    },
    {
      "metadata": {
        "id": "IwKshPy1HrBX",
        "colab_type": "code",
        "colab": {
          "base_uri": "https://localhost:8080/",
          "height": 248
        },
        "outputId": "5331d61e-e07d-4a89-b8f0-b9f1722e0ef0"
      },
      "cell_type": "code",
      "source": [
        "!pip install --upgrade pandas"
      ],
      "execution_count": 17,
      "outputs": [
        {
          "output_type": "stream",
          "text": [
            "Collecting pandas\n",
            "\u001b[?25l  Downloading https://files.pythonhosted.org/packages/e1/d8/feeb346d41f181e83fba45224ab14a8d8af019b48af742e047f3845d8cff/pandas-0.23.4-cp36-cp36m-manylinux1_x86_64.whl (8.9MB)\n",
            "\u001b[K    100% |████████████████████████████████| 8.9MB 3.1MB/s \n",
            "\u001b[?25hRequirement already satisfied, skipping upgrade: python-dateutil>=2.5.0 in /usr/local/lib/python3.6/dist-packages (from pandas) (2.5.3)\n",
            "Requirement already satisfied, skipping upgrade: numpy>=1.9.0 in /usr/local/lib/python3.6/dist-packages (from pandas) (1.14.6)\n",
            "Requirement already satisfied, skipping upgrade: pytz>=2011k in /usr/local/lib/python3.6/dist-packages (from pandas) (2018.7)\n",
            "Requirement already satisfied, skipping upgrade: six>=1.5 in /usr/local/lib/python3.6/dist-packages (from python-dateutil>=2.5.0->pandas) (1.11.0)\n",
            "Installing collected packages: pandas\n",
            "  Found existing installation: pandas 0.22.0\n",
            "    Uninstalling pandas-0.22.0:\n",
            "      Successfully uninstalled pandas-0.22.0\n",
            "Successfully installed pandas-0.23.4\n"
          ],
          "name": "stdout"
        }
      ]
    },
    {
      "metadata": {
        "id": "RlK3e1GOMMM8",
        "colab_type": "text"
      },
      "cell_type": "markdown",
      "source": [
        "### Python: MySQL\n",
        "https://pandas.pydata.org/pandas-docs/stable/io.html#sql-queries\n",
        "\n"
      ]
    },
    {
      "metadata": {
        "id": "nES23tc0MNK5",
        "colab_type": "code",
        "colab": {
          "base_uri": "https://localhost:8080/",
          "height": 600
        },
        "outputId": "651838a7-c5b5-4041-8f90-75b88e7ce1c2"
      },
      "cell_type": "code",
      "source": [
        "!pip install --upgrade sqlalchemy pymysql pandas"
      ],
      "execution_count": 19,
      "outputs": [
        {
          "output_type": "stream",
          "text": [
            "Collecting sqlalchemy\n",
            "\u001b[?25l  Downloading https://files.pythonhosted.org/packages/1e/98/4dba86354d271344e25fa01dc38a0bf0e0ba6407ad2d5e8426496a95b568/SQLAlchemy-1.2.13.tar.gz (5.7MB)\n",
            "\u001b[K    100% |████████████████████████████████| 5.7MB 5.8MB/s \n",
            "\u001b[?25hCollecting pymysql\n",
            "\u001b[?25l  Downloading https://files.pythonhosted.org/packages/a7/7d/682c4a7da195a678047c8f1c51bb7682aaedee1dca7547883c3993ca9282/PyMySQL-0.9.2-py2.py3-none-any.whl (47kB)\n",
            "\u001b[K    100% |████████████████████████████████| 51kB 17.8MB/s \n",
            "\u001b[?25hRequirement already up-to-date: pandas in /usr/local/lib/python3.6/dist-packages (0.23.4)\n",
            "Collecting cryptography (from pymysql)\n",
            "\u001b[?25l  Downloading https://files.pythonhosted.org/packages/59/32/92cade62c645756a83598edf56289e9b19aae5370642a7ce690cd06bc72f/cryptography-2.3.1-cp34-abi3-manylinux1_x86_64.whl (2.1MB)\n",
            "\u001b[K    100% |████████████████████████████████| 2.1MB 12.3MB/s \n",
            "\u001b[?25hRequirement already satisfied, skipping upgrade: python-dateutil>=2.5.0 in /usr/local/lib/python3.6/dist-packages (from pandas) (2.5.3)\n",
            "Requirement already satisfied, skipping upgrade: numpy>=1.9.0 in /usr/local/lib/python3.6/dist-packages (from pandas) (1.14.6)\n",
            "Requirement already satisfied, skipping upgrade: pytz>=2011k in /usr/local/lib/python3.6/dist-packages (from pandas) (2018.7)\n",
            "Requirement already satisfied, skipping upgrade: idna>=2.1 in /usr/local/lib/python3.6/dist-packages (from cryptography->pymysql) (2.6)\n",
            "Collecting asn1crypto>=0.21.0 (from cryptography->pymysql)\n",
            "\u001b[?25l  Downloading https://files.pythonhosted.org/packages/ea/cd/35485615f45f30a510576f1a56d1e0a7ad7bd8ab5ed7cdc600ef7cd06222/asn1crypto-0.24.0-py2.py3-none-any.whl (101kB)\n",
            "\u001b[K    100% |████████████████████████████████| 102kB 25.0MB/s \n",
            "\u001b[?25hRequirement already satisfied, skipping upgrade: six>=1.4.1 in /usr/local/lib/python3.6/dist-packages (from cryptography->pymysql) (1.11.0)\n",
            "Collecting cffi!=1.11.3,>=1.7 (from cryptography->pymysql)\n",
            "\u001b[?25l  Downloading https://files.pythonhosted.org/packages/6d/c0/47db8f624f3e4e2f3f27be03a93379d1ba16a1450a7b1aacfa0366e2c0dd/cffi-1.11.5-cp36-cp36m-manylinux1_x86_64.whl (421kB)\n",
            "\u001b[K    100% |████████████████████████████████| 430kB 24.8MB/s \n",
            "\u001b[?25hCollecting pycparser (from cffi!=1.11.3,>=1.7->cryptography->pymysql)\n",
            "\u001b[?25l  Downloading https://files.pythonhosted.org/packages/68/9e/49196946aee219aead1290e00d1e7fdeab8567783e83e1b9ab5585e6206a/pycparser-2.19.tar.gz (158kB)\n",
            "\u001b[K    100% |████████████████████████████████| 163kB 31.7MB/s \n",
            "\u001b[?25hBuilding wheels for collected packages: sqlalchemy, pycparser\n",
            "  Running setup.py bdist_wheel for sqlalchemy ... \u001b[?25l-\b \b\\\b \b|\b \b/\b \b-\b \b\\\b \b|\b \b/\b \bdone\n",
            "\u001b[?25h  Stored in directory: /root/.cache/pip/wheels/ba/2e/47/b194b03e6aeaa658f521dfba094a42f1d37f4ee4018b9e607e\n",
            "  Running setup.py bdist_wheel for pycparser ... \u001b[?25l-\b \b\\\b \bdone\n",
            "\u001b[?25h  Stored in directory: /root/.cache/pip/wheels/f2/9a/90/de94f8556265ddc9d9c8b271b0f63e57b26fb1d67a45564511\n",
            "Successfully built sqlalchemy pycparser\n",
            "Installing collected packages: sqlalchemy, asn1crypto, pycparser, cffi, cryptography, pymysql\n",
            "Successfully installed asn1crypto-0.24.0 cffi-1.11.5 cryptography-2.3.1 pycparser-2.19 pymysql-0.9.2 sqlalchemy-1.2.13\n"
          ],
          "name": "stdout"
        }
      ]
    },
    {
      "metadata": {
        "id": "raAj9yRkMRNF",
        "colab_type": "code",
        "colab": {
          "base_uri": "https://localhost:8080/",
          "height": 491
        },
        "outputId": "710d839e-0563-4058-abfa-927f6d929666"
      },
      "cell_type": "code",
      "source": [
        "import pandas as pd\n",
        "\n",
        "csv_url = \"https://storage.googleapis.com/ds_data_import/chicago_bulls_1995_1996.csv\"\n",
        "chicago_bulls = pd.read_csv(csv_url)\n",
        "chicago_bulls"
      ],
      "execution_count": 20,
      "outputs": [
        {
          "output_type": "execute_result",
          "data": {
            "text/html": [
              "<div>\n",
              "<style scoped>\n",
              "    .dataframe tbody tr th:only-of-type {\n",
              "        vertical-align: middle;\n",
              "    }\n",
              "\n",
              "    .dataframe tbody tr th {\n",
              "        vertical-align: top;\n",
              "    }\n",
              "\n",
              "    .dataframe thead th {\n",
              "        text-align: right;\n",
              "    }\n",
              "</style>\n",
              "<table border=\"1\" class=\"dataframe\">\n",
              "  <thead>\n",
              "    <tr style=\"text-align: right;\">\n",
              "      <th></th>\n",
              "      <th>No.</th>\n",
              "      <th>Player</th>\n",
              "      <th>Pos</th>\n",
              "      <th>Ht</th>\n",
              "      <th>Wt</th>\n",
              "      <th>Birth Date</th>\n",
              "      <th>College</th>\n",
              "    </tr>\n",
              "  </thead>\n",
              "  <tbody>\n",
              "    <tr>\n",
              "      <th>0</th>\n",
              "      <td>0</td>\n",
              "      <td>Randy Brown</td>\n",
              "      <td>PG</td>\n",
              "      <td>6-2</td>\n",
              "      <td>190</td>\n",
              "      <td>May 22, 1968</td>\n",
              "      <td>University of Houston, New Mexico State Univer...</td>\n",
              "    </tr>\n",
              "    <tr>\n",
              "      <th>1</th>\n",
              "      <td>30</td>\n",
              "      <td>Jud Buechler</td>\n",
              "      <td>SF</td>\n",
              "      <td>6-6</td>\n",
              "      <td>220</td>\n",
              "      <td>June 19, 1968</td>\n",
              "      <td>University of Arizona</td>\n",
              "    </tr>\n",
              "    <tr>\n",
              "      <th>2</th>\n",
              "      <td>35</td>\n",
              "      <td>Jason Caffey</td>\n",
              "      <td>PF</td>\n",
              "      <td>6-8</td>\n",
              "      <td>255</td>\n",
              "      <td>June 12, 1973</td>\n",
              "      <td>University of Alabama</td>\n",
              "    </tr>\n",
              "    <tr>\n",
              "      <th>3</th>\n",
              "      <td>53</td>\n",
              "      <td>James Edwards</td>\n",
              "      <td>C</td>\n",
              "      <td>7-0</td>\n",
              "      <td>225</td>\n",
              "      <td>November 22, 1955</td>\n",
              "      <td>University of Washington</td>\n",
              "    </tr>\n",
              "    <tr>\n",
              "      <th>4</th>\n",
              "      <td>54</td>\n",
              "      <td>Jack Haley</td>\n",
              "      <td>C</td>\n",
              "      <td>6-10</td>\n",
              "      <td>240</td>\n",
              "      <td>January 27, 1964</td>\n",
              "      <td>University of California, Los Angeles</td>\n",
              "    </tr>\n",
              "    <tr>\n",
              "      <th>5</th>\n",
              "      <td>9</td>\n",
              "      <td>Ron Harper</td>\n",
              "      <td>PG</td>\n",
              "      <td>6-6</td>\n",
              "      <td>185</td>\n",
              "      <td>January 20, 1964</td>\n",
              "      <td>Miami University</td>\n",
              "    </tr>\n",
              "    <tr>\n",
              "      <th>6</th>\n",
              "      <td>23</td>\n",
              "      <td>Michael Jordan</td>\n",
              "      <td>SG</td>\n",
              "      <td>6-6</td>\n",
              "      <td>195</td>\n",
              "      <td>February 17, 1963</td>\n",
              "      <td>University of North Carolina</td>\n",
              "    </tr>\n",
              "    <tr>\n",
              "      <th>7</th>\n",
              "      <td>25</td>\n",
              "      <td>Steve Kerr</td>\n",
              "      <td>PG</td>\n",
              "      <td>6-3</td>\n",
              "      <td>175</td>\n",
              "      <td>September 27, 1965</td>\n",
              "      <td>University of Arizona</td>\n",
              "    </tr>\n",
              "    <tr>\n",
              "      <th>8</th>\n",
              "      <td>7</td>\n",
              "      <td>Toni Kukoc</td>\n",
              "      <td>SF</td>\n",
              "      <td>6-10</td>\n",
              "      <td>192</td>\n",
              "      <td>September 18, 1968</td>\n",
              "      <td>NaN</td>\n",
              "    </tr>\n",
              "    <tr>\n",
              "      <th>9</th>\n",
              "      <td>13</td>\n",
              "      <td>Luc Longley</td>\n",
              "      <td>C</td>\n",
              "      <td>7-2</td>\n",
              "      <td>265</td>\n",
              "      <td>January 19, 1969</td>\n",
              "      <td>University of New Mexico</td>\n",
              "    </tr>\n",
              "    <tr>\n",
              "      <th>10</th>\n",
              "      <td>33</td>\n",
              "      <td>Scottie Pippen</td>\n",
              "      <td>SF</td>\n",
              "      <td>6-8</td>\n",
              "      <td>210</td>\n",
              "      <td>September 25, 1965</td>\n",
              "      <td>University of Central Arkansas</td>\n",
              "    </tr>\n",
              "    <tr>\n",
              "      <th>11</th>\n",
              "      <td>91</td>\n",
              "      <td>Dennis Rodman</td>\n",
              "      <td>PF</td>\n",
              "      <td>6-7</td>\n",
              "      <td>210</td>\n",
              "      <td>May 13, 1961</td>\n",
              "      <td>Southeastern Oklahoma State University</td>\n",
              "    </tr>\n",
              "    <tr>\n",
              "      <th>12</th>\n",
              "      <td>22</td>\n",
              "      <td>John Salley</td>\n",
              "      <td>PF</td>\n",
              "      <td>6-11</td>\n",
              "      <td>230</td>\n",
              "      <td>May 16, 1964</td>\n",
              "      <td>Georgia Institute of Technology</td>\n",
              "    </tr>\n",
              "    <tr>\n",
              "      <th>13</th>\n",
              "      <td>8</td>\n",
              "      <td>Dickey Simpkins</td>\n",
              "      <td>PF</td>\n",
              "      <td>6-9</td>\n",
              "      <td>248</td>\n",
              "      <td>April 6, 1972</td>\n",
              "      <td>Providence College</td>\n",
              "    </tr>\n",
              "    <tr>\n",
              "      <th>14</th>\n",
              "      <td>34</td>\n",
              "      <td>Bill Wennington</td>\n",
              "      <td>C</td>\n",
              "      <td>7-0</td>\n",
              "      <td>245</td>\n",
              "      <td>April 26, 1963</td>\n",
              "      <td>St. John's University</td>\n",
              "    </tr>\n",
              "  </tbody>\n",
              "</table>\n",
              "</div>"
            ],
            "text/plain": [
              "    No.           Player Pos    Ht   Wt          Birth Date  \\\n",
              "0     0      Randy Brown  PG   6-2  190        May 22, 1968   \n",
              "1    30     Jud Buechler  SF   6-6  220       June 19, 1968   \n",
              "2    35     Jason Caffey  PF   6-8  255       June 12, 1973   \n",
              "3    53    James Edwards   C   7-0  225   November 22, 1955   \n",
              "4    54       Jack Haley   C  6-10  240    January 27, 1964   \n",
              "5     9       Ron Harper  PG   6-6  185    January 20, 1964   \n",
              "6    23   Michael Jordan  SG   6-6  195   February 17, 1963   \n",
              "7    25       Steve Kerr  PG   6-3  175  September 27, 1965   \n",
              "8     7       Toni Kukoc  SF  6-10  192  September 18, 1968   \n",
              "9    13      Luc Longley   C   7-2  265    January 19, 1969   \n",
              "10   33   Scottie Pippen  SF   6-8  210  September 25, 1965   \n",
              "11   91    Dennis Rodman  PF   6-7  210        May 13, 1961   \n",
              "12   22      John Salley  PF  6-11  230        May 16, 1964   \n",
              "13    8  Dickey Simpkins  PF   6-9  248       April 6, 1972   \n",
              "14   34  Bill Wennington   C   7-0  245      April 26, 1963   \n",
              "\n",
              "                                              College  \n",
              "0   University of Houston, New Mexico State Univer...  \n",
              "1                               University of Arizona  \n",
              "2                               University of Alabama  \n",
              "3                            University of Washington  \n",
              "4               University of California, Los Angeles  \n",
              "5                                    Miami University  \n",
              "6                        University of North Carolina  \n",
              "7                               University of Arizona  \n",
              "8                                                 NaN  \n",
              "9                            University of New Mexico  \n",
              "10                     University of Central Arkansas  \n",
              "11             Southeastern Oklahoma State University  \n",
              "12                    Georgia Institute of Technology  \n",
              "13                                 Providence College  \n",
              "14                              St. John's University  "
            ]
          },
          "metadata": {
            "tags": []
          },
          "execution_count": 20
        }
      ]
    },
    {
      "metadata": {
        "id": "gU0Oyx7UM6Bo",
        "colab_type": "code",
        "colab": {
          "base_uri": "https://localhost:8080/",
          "height": 70
        },
        "outputId": "d9dd325c-9b15-4f4f-cffa-c0f0cc9f76f6"
      },
      "cell_type": "code",
      "source": [
        "pi = 3.14159265359\n",
        "print(\"圓周率: {}\".format(pi))\n",
        "print(\"圓周率: {:.0f}\" .format(pi)) #無浮點數\n",
        "#print(\"圓周率: {:.2f}\" .format(pi)) #兩位浮點數"
      ],
      "execution_count": 29,
      "outputs": [
        {
          "output_type": "stream",
          "text": [
            "圓周率: 3.14159265359\n",
            "圓周率: 3\n",
            "圓周率: 3.14\n"
          ],
          "name": "stdout"
        }
      ]
    },
    {
      "metadata": {
        "id": "gAB6oUb2RW1a",
        "colab_type": "code",
        "colab": {
          "base_uri": "https://localhost:8080/",
          "height": 491
        },
        "outputId": "e6572766-ba1a-4285-bb7d-09d91e14d33d"
      },
      "cell_type": "code",
      "source": [
        "# pd.read_sql_table()\n",
        "\n",
        "import pandas as pd\n",
        "from sqlalchemy import create_engine\n",
        "\n",
        "host = \"rsqltrain.ced04jhfjfgi.ap-northeast-1.rds.amazonaws.com\"\n",
        "port = 3306\n",
        "dbname = \"nba\"\n",
        "user = \"trainstudent\"\n",
        "password = \"csietrain\"\n",
        "engine = create_engine('mysql+pymysql://{user}:{password}@{host}:{port}/{dbname}'.format(user=user, password=password, host=host, port=port, dbname=dbname))\n",
        "#chicago_bulls = pd.read_sql_table('chicago_bulls', engine)\n",
        "#chicago_bulls\n",
        "#engine_config = 'mysql+pymysql://{}:{}@{}:{}/{}'.format(user, password, host, port, dbname)\n",
        "engine = create_engine(engine_config)\n",
        "chicago_bulls = pd.read_sql_table('chicago_bulls', engine)\n",
        "chicago_bulls"
      ],
      "execution_count": 31,
      "outputs": [
        {
          "output_type": "execute_result",
          "data": {
            "text/html": [
              "<div>\n",
              "<style scoped>\n",
              "    .dataframe tbody tr th:only-of-type {\n",
              "        vertical-align: middle;\n",
              "    }\n",
              "\n",
              "    .dataframe tbody tr th {\n",
              "        vertical-align: top;\n",
              "    }\n",
              "\n",
              "    .dataframe thead th {\n",
              "        text-align: right;\n",
              "    }\n",
              "</style>\n",
              "<table border=\"1\" class=\"dataframe\">\n",
              "  <thead>\n",
              "    <tr style=\"text-align: right;\">\n",
              "      <th></th>\n",
              "      <th>No.</th>\n",
              "      <th>Player</th>\n",
              "      <th>Pos</th>\n",
              "      <th>Ht</th>\n",
              "      <th>Wt</th>\n",
              "      <th>Birth Date</th>\n",
              "      <th>College</th>\n",
              "    </tr>\n",
              "  </thead>\n",
              "  <tbody>\n",
              "    <tr>\n",
              "      <th>0</th>\n",
              "      <td>0</td>\n",
              "      <td>Randy Brown</td>\n",
              "      <td>PG</td>\n",
              "      <td>6-2</td>\n",
              "      <td>190</td>\n",
              "      <td>May 22, 1968</td>\n",
              "      <td>University of Houston, New Mexico State Univer...</td>\n",
              "    </tr>\n",
              "    <tr>\n",
              "      <th>1</th>\n",
              "      <td>30</td>\n",
              "      <td>Jud Buechler</td>\n",
              "      <td>SF</td>\n",
              "      <td>6-6</td>\n",
              "      <td>220</td>\n",
              "      <td>June 19, 1968</td>\n",
              "      <td>University of Arizona</td>\n",
              "    </tr>\n",
              "    <tr>\n",
              "      <th>2</th>\n",
              "      <td>35</td>\n",
              "      <td>Jason Caffey</td>\n",
              "      <td>PF</td>\n",
              "      <td>6-8</td>\n",
              "      <td>255</td>\n",
              "      <td>June 12, 1973</td>\n",
              "      <td>University of Alabama</td>\n",
              "    </tr>\n",
              "    <tr>\n",
              "      <th>3</th>\n",
              "      <td>53</td>\n",
              "      <td>James Edwards</td>\n",
              "      <td>C</td>\n",
              "      <td>7-0</td>\n",
              "      <td>225</td>\n",
              "      <td>November 22, 1955</td>\n",
              "      <td>University of Washington</td>\n",
              "    </tr>\n",
              "    <tr>\n",
              "      <th>4</th>\n",
              "      <td>54</td>\n",
              "      <td>Jack Haley</td>\n",
              "      <td>C</td>\n",
              "      <td>6-10</td>\n",
              "      <td>240</td>\n",
              "      <td>January 27, 1964</td>\n",
              "      <td>University of California, Los Angeles</td>\n",
              "    </tr>\n",
              "    <tr>\n",
              "      <th>5</th>\n",
              "      <td>9</td>\n",
              "      <td>Ron Harper</td>\n",
              "      <td>PG</td>\n",
              "      <td>6-6</td>\n",
              "      <td>185</td>\n",
              "      <td>January 20, 1964</td>\n",
              "      <td>Miami University</td>\n",
              "    </tr>\n",
              "    <tr>\n",
              "      <th>6</th>\n",
              "      <td>23</td>\n",
              "      <td>Michael Jordan</td>\n",
              "      <td>SG</td>\n",
              "      <td>6-6</td>\n",
              "      <td>195</td>\n",
              "      <td>February 17, 1963</td>\n",
              "      <td>University of North Carolina</td>\n",
              "    </tr>\n",
              "    <tr>\n",
              "      <th>7</th>\n",
              "      <td>25</td>\n",
              "      <td>Steve Kerr</td>\n",
              "      <td>PG</td>\n",
              "      <td>6-3</td>\n",
              "      <td>175</td>\n",
              "      <td>September 27, 1965</td>\n",
              "      <td>University of Arizona</td>\n",
              "    </tr>\n",
              "    <tr>\n",
              "      <th>8</th>\n",
              "      <td>7</td>\n",
              "      <td>Toni Kukoc</td>\n",
              "      <td>SF</td>\n",
              "      <td>6-10</td>\n",
              "      <td>192</td>\n",
              "      <td>September 18, 1968</td>\n",
              "      <td>None</td>\n",
              "    </tr>\n",
              "    <tr>\n",
              "      <th>9</th>\n",
              "      <td>13</td>\n",
              "      <td>Luc Longley</td>\n",
              "      <td>C</td>\n",
              "      <td>7-2</td>\n",
              "      <td>265</td>\n",
              "      <td>January 19, 1969</td>\n",
              "      <td>University of New Mexico</td>\n",
              "    </tr>\n",
              "    <tr>\n",
              "      <th>10</th>\n",
              "      <td>33</td>\n",
              "      <td>Scottie Pippen</td>\n",
              "      <td>SF</td>\n",
              "      <td>6-8</td>\n",
              "      <td>210</td>\n",
              "      <td>September 25, 1965</td>\n",
              "      <td>University of Central Arkansas</td>\n",
              "    </tr>\n",
              "    <tr>\n",
              "      <th>11</th>\n",
              "      <td>91</td>\n",
              "      <td>Dennis Rodman</td>\n",
              "      <td>PF</td>\n",
              "      <td>6-7</td>\n",
              "      <td>210</td>\n",
              "      <td>May 13, 1961</td>\n",
              "      <td>Southeastern Oklahoma State University</td>\n",
              "    </tr>\n",
              "    <tr>\n",
              "      <th>12</th>\n",
              "      <td>22</td>\n",
              "      <td>John Salley</td>\n",
              "      <td>PF</td>\n",
              "      <td>6-11</td>\n",
              "      <td>230</td>\n",
              "      <td>May 16, 1964</td>\n",
              "      <td>Georgia Institute of Technology</td>\n",
              "    </tr>\n",
              "    <tr>\n",
              "      <th>13</th>\n",
              "      <td>8</td>\n",
              "      <td>Dickey Simpkins</td>\n",
              "      <td>PF</td>\n",
              "      <td>6-9</td>\n",
              "      <td>248</td>\n",
              "      <td>April 6, 1972</td>\n",
              "      <td>Providence College</td>\n",
              "    </tr>\n",
              "    <tr>\n",
              "      <th>14</th>\n",
              "      <td>34</td>\n",
              "      <td>Bill Wennington</td>\n",
              "      <td>C</td>\n",
              "      <td>7-0</td>\n",
              "      <td>245</td>\n",
              "      <td>April 26, 1963</td>\n",
              "      <td>St. John's University</td>\n",
              "    </tr>\n",
              "  </tbody>\n",
              "</table>\n",
              "</div>"
            ],
            "text/plain": [
              "    No.           Player Pos    Ht   Wt          Birth Date  \\\n",
              "0     0      Randy Brown  PG   6-2  190        May 22, 1968   \n",
              "1    30     Jud Buechler  SF   6-6  220       June 19, 1968   \n",
              "2    35     Jason Caffey  PF   6-8  255       June 12, 1973   \n",
              "3    53    James Edwards   C   7-0  225   November 22, 1955   \n",
              "4    54       Jack Haley   C  6-10  240    January 27, 1964   \n",
              "5     9       Ron Harper  PG   6-6  185    January 20, 1964   \n",
              "6    23   Michael Jordan  SG   6-6  195   February 17, 1963   \n",
              "7    25       Steve Kerr  PG   6-3  175  September 27, 1965   \n",
              "8     7       Toni Kukoc  SF  6-10  192  September 18, 1968   \n",
              "9    13      Luc Longley   C   7-2  265    January 19, 1969   \n",
              "10   33   Scottie Pippen  SF   6-8  210  September 25, 1965   \n",
              "11   91    Dennis Rodman  PF   6-7  210        May 13, 1961   \n",
              "12   22      John Salley  PF  6-11  230        May 16, 1964   \n",
              "13    8  Dickey Simpkins  PF   6-9  248       April 6, 1972   \n",
              "14   34  Bill Wennington   C   7-0  245      April 26, 1963   \n",
              "\n",
              "                                              College  \n",
              "0   University of Houston, New Mexico State Univer...  \n",
              "1                               University of Arizona  \n",
              "2                               University of Alabama  \n",
              "3                            University of Washington  \n",
              "4               University of California, Los Angeles  \n",
              "5                                    Miami University  \n",
              "6                        University of North Carolina  \n",
              "7                               University of Arizona  \n",
              "8                                                None  \n",
              "9                            University of New Mexico  \n",
              "10                     University of Central Arkansas  \n",
              "11             Southeastern Oklahoma State University  \n",
              "12                    Georgia Institute of Technology  \n",
              "13                                 Providence College  \n",
              "14                              St. John's University  "
            ]
          },
          "metadata": {
            "tags": []
          },
          "execution_count": 31
        }
      ]
    },
    {
      "metadata": {
        "id": "Q2y54CBJSWum",
        "colab_type": "code",
        "colab": {
          "base_uri": "https://localhost:8080/",
          "height": 136
        },
        "outputId": "01e083fc-592b-44a2-a3a8-eec35e5e7036"
      },
      "cell_type": "code",
      "source": [
        "# pd.read_sql_query()\n",
        "\n",
        "sql_statement = \"\"\"\n",
        "  SELECT * \n",
        "  FROM chicago_bulls \n",
        "  WHERE Player IN ('Michael Jordan', 'Scottie Pippen', 'Dennis Rodman');\n",
        "\"\"\"\n",
        "trio = pd.read_sql_query(sql_statement, engine)\n",
        "trio"
      ],
      "execution_count": 33,
      "outputs": [
        {
          "output_type": "execute_result",
          "data": {
            "text/html": [
              "<div>\n",
              "<style scoped>\n",
              "    .dataframe tbody tr th:only-of-type {\n",
              "        vertical-align: middle;\n",
              "    }\n",
              "\n",
              "    .dataframe tbody tr th {\n",
              "        vertical-align: top;\n",
              "    }\n",
              "\n",
              "    .dataframe thead th {\n",
              "        text-align: right;\n",
              "    }\n",
              "</style>\n",
              "<table border=\"1\" class=\"dataframe\">\n",
              "  <thead>\n",
              "    <tr style=\"text-align: right;\">\n",
              "      <th></th>\n",
              "      <th>No.</th>\n",
              "      <th>Player</th>\n",
              "      <th>Pos</th>\n",
              "      <th>Ht</th>\n",
              "      <th>Wt</th>\n",
              "      <th>Birth Date</th>\n",
              "      <th>College</th>\n",
              "    </tr>\n",
              "  </thead>\n",
              "  <tbody>\n",
              "    <tr>\n",
              "      <th>0</th>\n",
              "      <td>23</td>\n",
              "      <td>Michael Jordan</td>\n",
              "      <td>SG</td>\n",
              "      <td>6-6</td>\n",
              "      <td>195</td>\n",
              "      <td>February 17, 1963</td>\n",
              "      <td>University of North Carolina</td>\n",
              "    </tr>\n",
              "    <tr>\n",
              "      <th>1</th>\n",
              "      <td>33</td>\n",
              "      <td>Scottie Pippen</td>\n",
              "      <td>SF</td>\n",
              "      <td>6-8</td>\n",
              "      <td>210</td>\n",
              "      <td>September 25, 1965</td>\n",
              "      <td>University of Central Arkansas</td>\n",
              "    </tr>\n",
              "    <tr>\n",
              "      <th>2</th>\n",
              "      <td>91</td>\n",
              "      <td>Dennis Rodman</td>\n",
              "      <td>PF</td>\n",
              "      <td>6-7</td>\n",
              "      <td>210</td>\n",
              "      <td>May 13, 1961</td>\n",
              "      <td>Southeastern Oklahoma State University</td>\n",
              "    </tr>\n",
              "  </tbody>\n",
              "</table>\n",
              "</div>"
            ],
            "text/plain": [
              "   No.          Player Pos   Ht   Wt          Birth Date  \\\n",
              "0   23  Michael Jordan  SG  6-6  195   February 17, 1963   \n",
              "1   33  Scottie Pippen  SF  6-8  210  September 25, 1965   \n",
              "2   91   Dennis Rodman  PF  6-7  210        May 13, 1961   \n",
              "\n",
              "                                  College  \n",
              "0            University of North Carolina  \n",
              "1          University of Central Arkansas  \n",
              "2  Southeastern Oklahoma State University  "
            ]
          },
          "metadata": {
            "tags": []
          },
          "execution_count": 33
        }
      ]
    },
    {
      "metadata": {
        "id": "g0frqEqnWUwZ",
        "colab_type": "code",
        "colab": {
          "base_uri": "https://localhost:8080/",
          "height": 136
        },
        "outputId": "f3b05adc-f873-4001-9406-7e124004e841"
      },
      "cell_type": "code",
      "source": [
        "# Ray Allen\n",
        "# Paul Pierce\n",
        "# Kevin Garnett\n",
        "\n",
        "sql_statement = \"\"\"\n",
        "  SELECT * \n",
        "  FROM boston_celtics \n",
        "  WHERE Player IN ('Ray Allen', 'Paul Pierce', 'Kevin Garnett');\n",
        "\"\"\"\n",
        "gap = pd.read_sql_query(sql_statement, engine)\n",
        "gap"
      ],
      "execution_count": 37,
      "outputs": [
        {
          "output_type": "execute_result",
          "data": {
            "text/html": [
              "<div>\n",
              "<style scoped>\n",
              "    .dataframe tbody tr th:only-of-type {\n",
              "        vertical-align: middle;\n",
              "    }\n",
              "\n",
              "    .dataframe tbody tr th {\n",
              "        vertical-align: top;\n",
              "    }\n",
              "\n",
              "    .dataframe thead th {\n",
              "        text-align: right;\n",
              "    }\n",
              "</style>\n",
              "<table border=\"1\" class=\"dataframe\">\n",
              "  <thead>\n",
              "    <tr style=\"text-align: right;\">\n",
              "      <th></th>\n",
              "      <th>row_names</th>\n",
              "      <th>No.</th>\n",
              "      <th>Player</th>\n",
              "      <th>Pos</th>\n",
              "      <th>Ht</th>\n",
              "      <th>Wt</th>\n",
              "      <th>Birth.Date</th>\n",
              "      <th>College</th>\n",
              "    </tr>\n",
              "  </thead>\n",
              "  <tbody>\n",
              "    <tr>\n",
              "      <th>0</th>\n",
              "      <td>1</td>\n",
              "      <td>20</td>\n",
              "      <td>Ray Allen</td>\n",
              "      <td>SG</td>\n",
              "      <td>6-5</td>\n",
              "      <td>205</td>\n",
              "      <td>July 20, 1975</td>\n",
              "      <td>University of Connecticut</td>\n",
              "    </tr>\n",
              "    <tr>\n",
              "      <th>1</th>\n",
              "      <td>6</td>\n",
              "      <td>5</td>\n",
              "      <td>Kevin Garnett</td>\n",
              "      <td>PF</td>\n",
              "      <td>6-11</td>\n",
              "      <td>240</td>\n",
              "      <td>May 19, 1976</td>\n",
              "      <td></td>\n",
              "    </tr>\n",
              "    <tr>\n",
              "      <th>2</th>\n",
              "      <td>9</td>\n",
              "      <td>34</td>\n",
              "      <td>Paul Pierce</td>\n",
              "      <td>SF</td>\n",
              "      <td>6-7</td>\n",
              "      <td>235</td>\n",
              "      <td>October 13, 1977</td>\n",
              "      <td>University of Kansas</td>\n",
              "    </tr>\n",
              "  </tbody>\n",
              "</table>\n",
              "</div>"
            ],
            "text/plain": [
              "  row_names  No.         Player Pos    Ht   Wt        Birth.Date  \\\n",
              "0         1   20      Ray Allen  SG   6-5  205     July 20, 1975   \n",
              "1         6    5  Kevin Garnett  PF  6-11  240      May 19, 1976   \n",
              "2         9   34    Paul Pierce  SF   6-7  235  October 13, 1977   \n",
              "\n",
              "                     College  \n",
              "0  University of Connecticut  \n",
              "1                             \n",
              "2       University of Kansas  "
            ]
          },
          "metadata": {
            "tags": []
          },
          "execution_count": 37
        }
      ]
    },
    {
      "metadata": {
        "id": "keIjZC9sXTzc",
        "colab_type": "code",
        "colab": {
          "base_uri": "https://localhost:8080/",
          "height": 136
        },
        "outputId": "a6d0552a-6b68-4d34-a30b-cb7eb61e7d46"
      },
      "cell_type": "code",
      "source": [
        "boston_celtics.loc[[0, 5, 8], [\"Player\", \"No.\"]]"
      ],
      "execution_count": 42,
      "outputs": [
        {
          "output_type": "execute_result",
          "data": {
            "text/html": [
              "<div>\n",
              "<style scoped>\n",
              "    .dataframe tbody tr th:only-of-type {\n",
              "        vertical-align: middle;\n",
              "    }\n",
              "\n",
              "    .dataframe tbody tr th {\n",
              "        vertical-align: top;\n",
              "    }\n",
              "\n",
              "    .dataframe thead th {\n",
              "        text-align: right;\n",
              "    }\n",
              "</style>\n",
              "<table border=\"1\" class=\"dataframe\">\n",
              "  <thead>\n",
              "    <tr style=\"text-align: right;\">\n",
              "      <th></th>\n",
              "      <th>Player</th>\n",
              "      <th>No.</th>\n",
              "    </tr>\n",
              "  </thead>\n",
              "  <tbody>\n",
              "    <tr>\n",
              "      <th>0</th>\n",
              "      <td>Ray Allen</td>\n",
              "      <td>20</td>\n",
              "    </tr>\n",
              "    <tr>\n",
              "      <th>5</th>\n",
              "      <td>Kevin Garnett</td>\n",
              "      <td>5</td>\n",
              "    </tr>\n",
              "    <tr>\n",
              "      <th>8</th>\n",
              "      <td>Paul Pierce</td>\n",
              "      <td>34</td>\n",
              "    </tr>\n",
              "  </tbody>\n",
              "</table>\n",
              "</div>"
            ],
            "text/plain": [
              "          Player  No.\n",
              "0      Ray Allen   20\n",
              "5  Kevin Garnett    5\n",
              "8    Paul Pierce   34"
            ]
          },
          "metadata": {
            "tags": []
          },
          "execution_count": 42
        }
      ]
    },
    {
      "metadata": {
        "id": "tCPe6rJ3Z10G",
        "colab_type": "code",
        "colab": {
          "base_uri": "https://localhost:8080/",
          "height": 136
        },
        "outputId": "f4436843-82e3-40b5-b406-5c531f469d1a"
      },
      "cell_type": "code",
      "source": [
        "gap = ['Ray Allen', 'Paul Pierce', 'Kevin Garnett']\n",
        "is_gap = boston_celtics[\"Player\"].isin(gap)\n",
        "boston_celtics[is_gap]"
      ],
      "execution_count": 47,
      "outputs": [
        {
          "output_type": "execute_result",
          "data": {
            "text/html": [
              "<div>\n",
              "<style scoped>\n",
              "    .dataframe tbody tr th:only-of-type {\n",
              "        vertical-align: middle;\n",
              "    }\n",
              "\n",
              "    .dataframe tbody tr th {\n",
              "        vertical-align: top;\n",
              "    }\n",
              "\n",
              "    .dataframe thead th {\n",
              "        text-align: right;\n",
              "    }\n",
              "</style>\n",
              "<table border=\"1\" class=\"dataframe\">\n",
              "  <thead>\n",
              "    <tr style=\"text-align: right;\">\n",
              "      <th></th>\n",
              "      <th>row_names</th>\n",
              "      <th>No.</th>\n",
              "      <th>Player</th>\n",
              "      <th>Pos</th>\n",
              "      <th>Ht</th>\n",
              "      <th>Wt</th>\n",
              "      <th>Birth.Date</th>\n",
              "      <th>College</th>\n",
              "    </tr>\n",
              "  </thead>\n",
              "  <tbody>\n",
              "    <tr>\n",
              "      <th>0</th>\n",
              "      <td>1</td>\n",
              "      <td>20</td>\n",
              "      <td>Ray Allen</td>\n",
              "      <td>SG</td>\n",
              "      <td>6-5</td>\n",
              "      <td>205</td>\n",
              "      <td>July 20, 1975</td>\n",
              "      <td>University of Connecticut</td>\n",
              "    </tr>\n",
              "    <tr>\n",
              "      <th>5</th>\n",
              "      <td>6</td>\n",
              "      <td>5</td>\n",
              "      <td>Kevin Garnett</td>\n",
              "      <td>PF</td>\n",
              "      <td>6-11</td>\n",
              "      <td>240</td>\n",
              "      <td>May 19, 1976</td>\n",
              "      <td></td>\n",
              "    </tr>\n",
              "    <tr>\n",
              "      <th>8</th>\n",
              "      <td>9</td>\n",
              "      <td>34</td>\n",
              "      <td>Paul Pierce</td>\n",
              "      <td>SF</td>\n",
              "      <td>6-7</td>\n",
              "      <td>235</td>\n",
              "      <td>October 13, 1977</td>\n",
              "      <td>University of Kansas</td>\n",
              "    </tr>\n",
              "  </tbody>\n",
              "</table>\n",
              "</div>"
            ],
            "text/plain": [
              "  row_names  No.         Player Pos    Ht   Wt        Birth.Date  \\\n",
              "0         1   20      Ray Allen  SG   6-5  205     July 20, 1975   \n",
              "5         6    5  Kevin Garnett  PF  6-11  240      May 19, 1976   \n",
              "8         9   34    Paul Pierce  SF   6-7  235  October 13, 1977   \n",
              "\n",
              "                     College  \n",
              "0  University of Connecticut  \n",
              "5                             \n",
              "8       University of Kansas  "
            ]
          },
          "metadata": {
            "tags": []
          },
          "execution_count": 47
        }
      ]
    },
    {
      "metadata": {
        "id": "TyprOlDnapwy",
        "colab_type": "code",
        "colab": {}
      },
      "cell_type": "code",
      "source": [
        ""
      ],
      "execution_count": 0,
      "outputs": []
    }
  ]
}