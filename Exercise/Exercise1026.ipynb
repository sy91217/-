{
 "cells": [
  {
   "cell_type": "code",
   "execution_count": 2,
   "metadata": {},
   "outputs": [
    {
     "ename": "SyntaxError",
     "evalue": "invalid syntax (<ipython-input-2-b2eebfbae072>, line 2)",
     "output_type": "error",
     "traceback": [
      "\u001b[1;36m  File \u001b[1;32m\"<ipython-input-2-b2eebfbae072>\"\u001b[1;36m, line \u001b[1;32m2\u001b[0m\n\u001b[1;33m    def function_name(輸入, 參數 1, 參數 2, ...):\u001b[0m\n\u001b[1;37m                             ^\u001b[0m\n\u001b[1;31mSyntaxError\u001b[0m\u001b[1;31m:\u001b[0m invalid syntax\n"
     ]
    }
   ],
   "source": [
    "#Python ⾃訂函數的架構：\n",
    "def function_name(輸入, 參數 1, 參數 2, ...):\n",
    " Docstrings\n",
    " # 主要的程式\n",
    " return 結果\n",
    "#⾸先給函數取個名字，接著在⼩括號中放入輸入與參數，然後附上⼀段說明，在縮排內撰寫主要程式，最後把輸出結果放在return後⾯"
   ]
  },
  {
   "cell_type": "code",
   "execution_count": 3,
   "metadata": {},
   "outputs": [
    {
     "ename": "SyntaxError",
     "evalue": "invalid syntax (<ipython-input-3-ade35249b256>, line 3)",
     "output_type": "error",
     "traceback": [
      "\u001b[1;36m  File \u001b[1;32m\"<ipython-input-3-ade35249b256>\"\u001b[1;36m, line \u001b[1;32m3\u001b[0m\n\u001b[1;33m    def function_name(輸入, 參數 1, 參數 2, ...):\u001b[0m\n\u001b[1;37m                             ^\u001b[0m\n\u001b[1;31mSyntaxError\u001b[0m\u001b[1;31m:\u001b[0m invalid syntax\n"
     ]
    }
   ],
   "source": [
    "#養成在自訂函數中加入 Docstrings 說明的好習慣，這有助於分享我們的自訂函數給其他人使用。Docstrings 可以區分為單行與多行\n",
    "#單行的 Docstrings 用一個單引號（'）包起來：\n",
    "def function_name(輸入, 參數 1, 參數 2, ...):\n",
    "\n",
    "    `單行的 Docstrings'\n",
    "\n",
    "    # 主要的程式\n",
    "\n",
    "    return 結果"
   ]
  },
  {
   "cell_type": "code",
   "execution_count": 4,
   "metadata": {},
   "outputs": [
    {
     "ename": "SyntaxError",
     "evalue": "invalid syntax (<ipython-input-4-fe5520873beb>, line 3)",
     "output_type": "error",
     "traceback": [
      "\u001b[1;36m  File \u001b[1;32m\"<ipython-input-4-fe5520873beb>\"\u001b[1;36m, line \u001b[1;32m3\u001b[0m\n\u001b[1;33m    def function_name(輸入, 參數 1, 參數 2, ...):\u001b[0m\n\u001b[1;37m                             ^\u001b[0m\n\u001b[1;31mSyntaxError\u001b[0m\u001b[1;31m:\u001b[0m invalid syntax\n"
     ]
    }
   ],
   "source": [
    "#多⾏的 Docstrings ⽤三個單引號（'''）包起來：\n",
    "\n",
    "def function_name(輸入, 參數 1, 參數 2, ...):\n",
    "\n",
    "    '''\n",
    "\n",
    "    多行的 Docstrings\n",
    "\n",
    "    更多的說明內容\n",
    "\n",
    "    '''\n",
    "\n",
    "    # 主要的程式\n",
    "\n",
    "    return 結果"
   ]
  },
  {
   "cell_type": "code",
   "execution_count": 5,
   "metadata": {},
   "outputs": [
    {
     "name": "stdout",
     "output_type": "stream",
     "text": [
      "Help on function my_squared in module __main__:\n",
      "\n",
      "my_squared(x)\n",
      "    將輸入的數字平方之後回傳\n",
      "\n",
      "9\n"
     ]
    }
   ],
   "source": [
    "#我們的第⼀個⾃訂函數 my_squared()，它的作⽤是將輸入的數字平⽅之後回傳\n",
    "def my_squared(x):\n",
    "\n",
    "    '將輸入的數字平方之後回傳'\n",
    "\n",
    "    return x ** 2\n",
    "\n",
    "help (my_squared)\n",
    "print(my_squared(3))"
   ]
  },
  {
   "cell_type": "code",
   "execution_count": 6,
   "metadata": {},
   "outputs": [
    {
     "name": "stdout",
     "output_type": "stream",
     "text": [
      "Help on function circle_area in module __main__:\n",
      "\n",
      "circle_area(r)\n",
      "    輸入半徑長度可以計算出圓面積\n",
      "\n",
      "28.274333882308138\n",
      "Help on function circle_circum in module __main__:\n",
      "\n",
      "circle_circum(r)\n",
      "    輸入半徑長度可以計算出圓周長\n",
      "\n",
      "18.84955592153876\n"
     ]
    }
   ],
   "source": [
    "#隨堂練習：計算圓面積與周長的函數\n",
    "import math # 要使用圓周率 pi 得引入套件 math\n",
    "\n",
    "def circle_area(r):\n",
    "\n",
    "    '輸入半徑長度可以計算出圓面積'\n",
    "\n",
    "    return math.pi * r ** 2\n",
    "\n",
    "help (circle_area)\n",
    "print (circle_area(3))\n",
    "\n",
    "\n",
    "import math # 要使用圓周率 pi 得引入套件 math\n",
    "\n",
    "def circle_circum(r):\n",
    "\n",
    "    '輸入半徑長度可以計算出圓周長'\n",
    "\n",
    "    return 2 * math.pi * r\n",
    "\n",
    "help (circle_circum)\n",
    "print (circle_circum(3))"
   ]
  },
  {
   "cell_type": "code",
   "execution_count": 7,
   "metadata": {},
   "outputs": [
    {
     "ename": "SyntaxError",
     "evalue": "invalid syntax (<ipython-input-7-ee54f048567f>, line 27)",
     "output_type": "error",
     "traceback": [
      "\u001b[1;36m  File \u001b[1;32m\"<ipython-input-7-ee54f048567f>\"\u001b[1;36m, line \u001b[1;32m27\u001b[0m\n\u001b[1;33m    print circle_calculator(3)\u001b[0m\n\u001b[1;37m                          ^\u001b[0m\n\u001b[1;31mSyntaxError\u001b[0m\u001b[1;31m:\u001b[0m invalid syntax\n"
     ]
    }
   ],
   "source": [
    "#我們把兩個自訂函數的功能整合起來到一個函數裡面，這個時候就會正式納入參數（parameters）的觀念\n",
    "#用一個布林參數 is_area 讓使用者在呼叫函數時決定要計算圓面積或者圓周長\n",
    "#假如自訂函數時沒有指定 `is_area` 參數的預設值，並且呼叫函數時也沒有指定，就會出現錯誤訊息\n",
    "import math # 要使用圓周率 pi 得引入套件 math\n",
    "\n",
    "def circle_calculator(r, is_area = True): # 這裡`is_area` 參數預設值為True。\n",
    "\n",
    "    '''\n",
    "\n",
    "    輸入半徑長度可以計算出圓面積與圓周長\n",
    "\n",
    "    利用參數 is_area 決定要回傳圓面積或圓周長\n",
    "\n",
    "    預設回傳圓面積\n",
    "\n",
    "    '''\n",
    "\n",
    "    if is_area == True:\n",
    "\n",
    "        return math.pi * r ** 2\n",
    "\n",
    "    else:\n",
    "\n",
    "        return 2 * math.pi * r\n",
    "\n",
    "\n",
    "print circle_calculator(3)\n",
    "\n",
    "print circle_calculator(3, is_area = False)\n",
    "\n",
    "\n",
    "\n",
    "import math # 要使用圓周率 pi 得引入套件 math\n",
    "\n",
    "def circle_calculator(r, is_area): # 沒有指定預設值\n",
    "\n",
    "    '''\n",
    "\n",
    "    輸入半徑長度可以計算出圓面積與圓周長\n",
    "\n",
    "    利用參數 is_area 決定要回傳圓面積或圓周長\n",
    "\n",
    "    預設回傳圓面積\n",
    "\n",
    "    '''\n",
    "\n",
    "    if is_area == True:\n",
    "\n",
    "        return math.pi * r ** 2\n",
    "\n",
    "    else:\n",
    "\n",
    "        return 2 * math.pi * r\n",
    "\n",
    "\n",
    "print circle_calculator(3) # 沒有指定 is_area 參數的值"
   ]
  },
  {
   "cell_type": "code",
   "execution_count": 8,
   "metadata": {},
   "outputs": [
    {
     "name": "stdout",
     "output_type": "stream",
     "text": [
      "6\n",
      "6\n",
      "6\n"
     ]
    }
   ],
   "source": [
    "#Python函數的參數分為位置引數(positional argument)與關鍵字引數(keyword argument)\n",
    "#位置引數就是依照參數位置傳入引數，或者採用預設引數的方式。\n",
    "#關鍵字引數是藉由關鍵字傳入引數，只要必要的參數都需要指定，但是不用依照參數位置的順序。\n",
    "#位置與關鍵引數混用時，位置引數必須放在關鍵字引數的前面，且每個參數只能對應一個引數。\n",
    "#如果引數個數不定，則在定義函數時在參數前面加上一個星號(*)。\n",
    "def func(a,b,c):\n",
    "    \n",
    "\tx = a + b + c\n",
    "\treturn x\n",
    "\n",
    "\n",
    "print(func(1,2,3))\n",
    "\n",
    "print(func(c=3,b=2,a=1))\n",
    "\n",
    "print(func(1,2,c=3))"
   ]
  },
  {
   "cell_type": "code",
   "execution_count": 9,
   "metadata": {},
   "outputs": [
    {
     "name": "stdout",
     "output_type": "stream",
     "text": [
      "51\n",
      "8\n",
      "18\n",
      "13\n",
      "6\n",
      "---\n",
      "51\n",
      "8\n",
      "18\n",
      "13\n",
      "6\n",
      "64\n"
     ]
    }
   ],
   "source": [
    "#Python 可以使用 args 或 kwargs (Keyword arguments)來分別處理不帶鍵值與帶有鍵值的彈性參數。利用這個特性，我們不一定要使用容器把變數包裝起來當做輸入\n",
    "### 使用args\n",
    "\n",
    "# 定義自訂函數\n",
    "\n",
    "def ironmen_list(*args):\n",
    "    '列出各組參賽鐵人數'\n",
    "    for ironman in args:\n",
    "        print(ironman)\n",
    "\n",
    "# 呼叫自訂函數\n",
    "\n",
    "ironmen_list(51, 8, 18, 13, 6) # 不含自我挑戰組\n",
    "print(\"---\")\n",
    "ironmen_list(51, 8, 18, 13, 6, 64) # 含自我挑戰組"
   ]
  },
  {
   "cell_type": "code",
   "execution_count": 10,
   "metadata": {},
   "outputs": [
    {
     "name": "stdout",
     "output_type": "stream",
     "text": [
      "ModernWeb ： 51 人\n",
      "DevOps ： 8 人\n",
      "Cloud ： 18 人\n",
      "BigData ： 13 人\n",
      "Security ： 6 人\n",
      "自我挑戰組 ： 64 人\n"
     ]
    }
   ],
   "source": [
    "### 使用kwargs\n",
    "\n",
    "# 定義自訂函數\n",
    "\n",
    "def ironmen_list(**kwargs):\n",
    "    '列出各組參賽鐵人數'\n",
    "    for key in kwargs:\n",
    "        print(key, \"：\", kwargs[key], \"人\")\n",
    "\n",
    "ironmen_list(ModernWeb = 51, DevOps = 8, Cloud = 18, BigData = 13, Security = 6, 自我挑戰組 = 64)"
   ]
  },
  {
   "cell_type": "code",
   "execution_count": 11,
   "metadata": {},
   "outputs": [
    {
     "name": "stdout",
     "output_type": "stream",
     "text": [
      "(28.274333882308138, 18.84955592153876)\n"
     ]
    }
   ],
   "source": [
    "#具有回傳值的函示，在函數程式敘述內可以包含一個以上的return敘述，當程式執行到return敘述就終止，然後將值傳回。\n",
    "#函數執行結束後，回傳結果得到輸出，也就是函數的回傳值。\n",
    "#只要在 return 敘述後面將多個輸出用逗號 , 隔開就會儲存在一個 tuple 中回傳\n",
    "\n",
    "#circle_calculator() 這個自訂函數，讓它可以輸入半徑就一併輸出圓面積與圓周長。\n",
    "import math # 要使用圓周率 pi 得引入套件 math\n",
    "\n",
    "def circle_calculator(r):\n",
    "\n",
    "    '''\n",
    "\n",
    "    輸入半徑長度可以計算出圓面積與圓周長\n",
    "\n",
    "    將圓面積與圓周長一起回傳\n",
    "\n",
    "    '''\n",
    "\n",
    "    area = math.pi * r ** 2\n",
    "\n",
    "    circum = 2 * math.pi * r\n",
    "\n",
    "    return area, circum\n",
    "\n",
    "\n",
    "print (circle_calculator(3))"
   ]
  },
  {
   "cell_type": "code",
   "execution_count": 12,
   "metadata": {},
   "outputs": [
    {
     "data": {
      "text/plain": [
       "10"
      ]
     },
     "execution_count": 12,
     "metadata": {},
     "output_type": "execute_result"
    }
   ],
   "source": [
    "#隨堂練習:自訂 my_len() 函數\n",
    "#我們希望 my_len() 函數可以計算輸入 list 中有幾個元素。\n",
    "def my_len(x):\n",
    "\n",
    "    '計算輸入 list 中有幾個元素'\n",
    "\n",
    "    cnt = 0\n",
    "\n",
    "    for i in x:\n",
    "\n",
    "        cnt += 1\n",
    "\n",
    "    return cnt\n",
    "\n",
    "\n",
    "\n",
    "num_list = range(1, 11)\n",
    "\n",
    "my_len(num_list) # 計算 num_list 中有幾個數字\n"
   ]
  },
  {
   "cell_type": "code",
   "execution_count": 13,
   "metadata": {},
   "outputs": [
    {
     "data": {
      "text/plain": [
       "55"
      ]
     },
     "execution_count": 13,
     "metadata": {},
     "output_type": "execute_result"
    }
   ],
   "source": [
    "#隨堂練習：自訂 my_sum() 函數\n",
    "#我們希望 my_sum() 函數可以計算輸入 list 中的數字加總。\n",
    "def my_sum(x):\n",
    "\n",
    "    '計算輸入 list 中的數字加總'\n",
    "\n",
    "    summation = 0\n",
    "\n",
    "    for i in x:\n",
    "\n",
    "        summation += i\n",
    "\n",
    "    return summation\n",
    "\n",
    "\n",
    "num_list = range(1, 11)\n",
    "\n",
    "my_sum(num_list) # 計算 num_list 中數字的加總"
   ]
  },
  {
   "cell_type": "code",
   "execution_count": 14,
   "metadata": {},
   "outputs": [
    {
     "data": {
      "text/plain": [
       "5.5"
      ]
     },
     "execution_count": 14,
     "metadata": {},
     "output_type": "execute_result"
    }
   ],
   "source": [
    "#隨堂練習：自訂 my_mean() 函數\n",
    "#我們希望 my_mean() 函數可以計算輸入 list 中的數字平均數，平均數是數字的加總除以個數，這個函數恰好綜合了前面兩個例子\n",
    "def my_mean(x):\n",
    "\n",
    "    '計算輸入 list 中的數字平均數'\n",
    "\n",
    "    cnt = 0\n",
    "\n",
    "    summation = 0.0\n",
    "\n",
    "    for i in x:\n",
    "\n",
    "        cnt += 1\n",
    "\n",
    "        summation += i\n",
    "\n",
    "    return (summation / cnt)\n",
    "\n",
    "\n",
    "\n",
    "num_list = range(1, 11)\n",
    "\n",
    "my_mean(num_list) # 計算 num_list 中數字的平均數"
   ]
  },
  {
   "cell_type": "code",
   "execution_count": 15,
   "metadata": {},
   "outputs": [
    {
     "ename": "NameError",
     "evalue": "name 'ans' is not defined",
     "output_type": "error",
     "traceback": [
      "\u001b[1;31m---------------------------------------------------------------------------\u001b[0m",
      "\u001b[1;31mNameError\u001b[0m                                 Traceback (most recent call last)",
      "\u001b[1;32m<ipython-input-15-f16822530084>\u001b[0m in \u001b[0;36m<module>\u001b[1;34m()\u001b[0m\n\u001b[0;32m      9\u001b[0m \u001b[1;33m\u001b[0m\u001b[0m\n\u001b[0;32m     10\u001b[0m \u001b[1;33m\u001b[0m\u001b[0m\n\u001b[1;32m---> 11\u001b[1;33m \u001b[0mprint\u001b[0m \u001b[1;33m(\u001b[0m\u001b[0mans\u001b[0m \u001b[1;33m(\u001b[0m\u001b[1;36m3\u001b[0m\u001b[1;33m)\u001b[0m\u001b[1;33m)\u001b[0m \u001b[1;31m# 在函數外沒有 ans變數，所以會出現錯誤訊息\u001b[0m\u001b[1;33m\u001b[0m\u001b[0m\n\u001b[0m",
      "\u001b[1;31mNameError\u001b[0m: name 'ans' is not defined"
     ]
    }
   ],
   "source": [
    "#在自訂函數時，程式中的變數可區分為區域變數（local variables）與全域變數（global variables）\n",
    "#在函數內，這兩種類型的變數都能夠使用。\n",
    "#在函數外，僅能使用全域變數\n",
    "def my_squared(x):\n",
    "\n",
    "    ans = x ** 2 # ans 是一個區域變數\n",
    "    \n",
    "    return ans\n",
    "\n",
    "\n",
    "print (ans (3)) # 在函數外沒有 ans變數，所以會出現錯誤訊息"
   ]
  },
  {
   "cell_type": "code",
   "execution_count": 16,
   "metadata": {},
   "outputs": [
    {
     "name": "stdout",
     "output_type": "stream",
     "text": [
      "9\n",
      "0\n"
     ]
    }
   ],
   "source": [
    "# 函數外也指派\n",
    "\n",
    "ans = 0 # ans 是一個全域變數\n",
    "\n",
    "def my_squared(x):\n",
    "\n",
    "    ans = x ** 2 # ans 是一個區域變數\n",
    "\n",
    "    return ans\n",
    "\n",
    "\n",
    "print (my_squared(3)) # 區域變數 ans 的值是 9\n",
    "\n",
    "print (ans) # 全域變數 ans 的值是 0"
   ]
  },
  {
   "cell_type": "code",
   "execution_count": 17,
   "metadata": {},
   "outputs": [
    {
     "name": "stdout",
     "output_type": "stream",
     "text": [
      "5.5\n"
     ]
    }
   ],
   "source": [
    "#我們可以在函數裡面嵌入函數\n",
    "def my_mean(x):\n",
    "\n",
    "    '計算平均數'\n",
    "\n",
    "    def my_sum(x):\n",
    "\n",
    "        '計算輸入 list 中的數字加總'\n",
    "\n",
    "        summation = 0.0\n",
    "\n",
    "        for i in x:\n",
    "\n",
    "            summation += i\n",
    "\n",
    "        return summation\n",
    "\n",
    "    def my_len(x):\n",
    "\n",
    "        '計算輸入 list 中有幾個元素'\n",
    "\n",
    "        cnt = 0\n",
    "\n",
    "        for i in x:\n",
    "\n",
    "            cnt += 1\n",
    "\n",
    "        return cnt\n",
    "\n",
    "    return my_sum(x) / my_len(x)\n",
    "\n",
    "\n",
    "my_list = range(1, 11) # 呼叫自訂函數\n",
    "\n",
    "print (my_mean(my_list))"
   ]
  },
  {
   "cell_type": "code",
   "execution_count": 18,
   "metadata": {},
   "outputs": [
    {
     "name": "stdout",
     "output_type": "stream",
     "text": [
      "9\n"
     ]
    }
   ],
   "source": [
    "#除了正常的自訂函數外，我們也可以使用lambda 匿名函數的寫法，這個自訂函數的寫法不需要 return 敘述\n",
    "my_squared = lambda x : x ** 2\n",
    "\n",
    "print (my_squared(3))"
   ]
  },
  {
   "cell_type": "code",
   "execution_count": 19,
   "metadata": {},
   "outputs": [
    {
     "name": "stdout",
     "output_type": "stream",
     "text": [
      "<filter object at 0x0000025CB73737F0>\n",
      "<map object at 0x0000025CB734E9B0>\n"
     ]
    },
    {
     "ename": "NameError",
     "evalue": "name 'reduce' is not defined",
     "output_type": "error",
     "traceback": [
      "\u001b[1;31m---------------------------------------------------------------------------\u001b[0m",
      "\u001b[1;31mNameError\u001b[0m                                 Traceback (most recent call last)",
      "\u001b[1;32m<ipython-input-19-3f54e91c8dc8>\u001b[0m in \u001b[0;36m<module>\u001b[1;34m()\u001b[0m\n\u001b[0;32m     12\u001b[0m \u001b[1;33m\u001b[0m\u001b[0m\n\u001b[0;32m     13\u001b[0m \u001b[0mmy_list\u001b[0m \u001b[1;33m=\u001b[0m \u001b[0mrange\u001b[0m\u001b[1;33m(\u001b[0m\u001b[1;36m1\u001b[0m\u001b[1;33m,\u001b[0m \u001b[1;36m11\u001b[0m\u001b[1;33m)\u001b[0m \u001b[1;31m#沒有reduce的定義\u001b[0m\u001b[1;33m\u001b[0m\u001b[0m\n\u001b[1;32m---> 14\u001b[1;33m \u001b[0mprint\u001b[0m \u001b[1;33m(\u001b[0m\u001b[0mreduce\u001b[0m\u001b[1;33m(\u001b[0m\u001b[1;32mlambda\u001b[0m \u001b[0mx\u001b[0m\u001b[1;33m,\u001b[0m \u001b[0my\u001b[0m \u001b[1;33m:\u001b[0m \u001b[0mx\u001b[0m \u001b[1;33m+\u001b[0m \u001b[0my\u001b[0m\u001b[1;33m,\u001b[0m \u001b[0mmy_list\u001b[0m\u001b[1;33m)\u001b[0m\u001b[1;33m)\u001b[0m\u001b[1;33m\u001b[0m\u001b[0m\n\u001b[0m",
      "\u001b[1;31mNameError\u001b[0m: name 'reduce' is not defined"
     ]
    }
   ],
   "source": [
    "#lambda 函數常與 filter()、 map()或 reduce() 一起使用\n",
    "#利用 filter() 搭配 lambda 函數將 1 到 10 的偶數挑出來\n",
    "#利用 map() 搭配 lambda 函數將 1 到 10 的每一個數字都平方\n",
    "#利用 reduce() 搭配 lambda 函數將 1 到 10 的每一個數字加總\n",
    "my_list = range(1, 11)\n",
    "print (filter(lambda x : x % 2 == 0, my_list))\n",
    "\n",
    "\n",
    "my_list = range(1, 11)\n",
    "print (map(lambda x : x ** 2, my_list))\n",
    "\n",
    "\n",
    "my_list = range(1, 11) #沒有reduce的定義\n",
    "print (reduce(lambda x, y : x + y, my_list))"
   ]
  },
  {
   "cell_type": "code",
   "execution_count": 20,
   "metadata": {},
   "outputs": [
    {
     "name": "stdout",
     "output_type": "stream",
     "text": [
      "請輸入數值。\n"
     ]
    },
    {
     "data": {
      "text/plain": [
       "9"
      ]
     },
     "execution_count": 20,
     "metadata": {},
     "output_type": "execute_result"
    }
   ],
   "source": [
    "#在使用內建函數時，常有各種原因會導致錯誤或者警示，收到回傳訊息可以幫助我們修改程式\n",
    "#在自訂函數時，如果能夠掌握某些特定錯誤，撰寫客製化的錯誤訊息，就可以讓自訂函數的使用者更快完成偵錯\n",
    "#使用 try - except 的語法結構進行錯誤處理\n",
    "def my_squared(x):\n",
    "\n",
    "    '計算平方數且具有錯誤處理的函數'\n",
    "\n",
    "    try:\n",
    "\n",
    "        return x ** 2\n",
    "\n",
    "    except:\n",
    "\n",
    "        print(\"請輸入數值。\")\n",
    "        \n",
    "\n",
    "my_squared(\"3\")\n",
    "\n",
    "my_squared(3)"
   ]
  },
  {
   "cell_type": "code",
   "execution_count": 21,
   "metadata": {},
   "outputs": [
    {
     "name": "stdout",
     "output_type": "stream",
     "text": [
      "3.0\n",
      "除數不可以為零。\n",
      "除數不可以為零。\n",
      "None\n",
      "其他的錯誤\n",
      "其他的錯誤\n",
      "None\n"
     ]
    }
   ],
   "source": [
    "#除了這個例子的 TypeError 以外，也可以針對不同的錯誤類型設計客製錯誤訊息\n",
    "#如果使用者輸入的資料類型錯誤（TypeError）就回傳「請輸入數值。」\n",
    "#如果使用者在除數指定了 0（ZeroDivisionError）就回傳「除數不可以為零。」\n",
    "def divide(x, y):\n",
    "\n",
    "    try:\n",
    "        return x/y\n",
    "\n",
    "    except SyntaxError:\n",
    "        print(\"請輸入數值。\")\n",
    "        \n",
    "    except ZeroDivisionError:\n",
    "        print(\"除數不可以為零。\")\n",
    "\n",
    "    except:\n",
    "        print(\"其他的錯誤\")\n",
    "\n",
    "divide(9,3) # 執行完畢\n",
    "print(divide(9,3)) #印出結果 (3.0)\n",
    "\n",
    "divide (9,0) #印出除數不可以為零\n",
    "print (divide (9,0)) #印出除數不可以為零與結果(None)\n",
    "\n",
    "divide(\"9\", 2) # 印出其他錯誤\n",
    "print(divide(\"9\",2)) #印出其他錯誤與結果(None)"
   ]
  }
 ],
 "metadata": {
  "kernelspec": {
   "display_name": "Python 3",
   "language": "python",
   "name": "python3"
  },
  "language_info": {
   "codemirror_mode": {
    "name": "ipython",
    "version": 3
   },
   "file_extension": ".py",
   "mimetype": "text/x-python",
   "name": "python",
   "nbconvert_exporter": "python",
   "pygments_lexer": "ipython3",
   "version": "3.6.5"
  }
 },
 "nbformat": 4,
 "nbformat_minor": 2
}
